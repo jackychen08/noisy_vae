{
  "cells": [
    {
      "cell_type": "markdown",
      "metadata": {
        "id": "view-in-github",
        "colab_type": "text"
      },
      "source": [
        "<a href=\"https://colab.research.google.com/github/jackychen08/noisy_vae/blob/master/hw2_eda.ipynb\" target=\"_parent\"><img src=\"https://colab.research.google.com/assets/colab-badge.svg\" alt=\"Open In Colab\"/></a>"
      ]
    },
    {
      "cell_type": "code",
      "execution_count": null,
      "metadata": {
        "id": "Kukg-y5M4oxx"
      },
      "outputs": [],
      "source": [
        "import pandas as pd\n",
        "import altair as alt"
      ]
    },
    {
      "cell_type": "markdown",
      "metadata": {
        "id": "Tb6K1-3H4oxy"
      },
      "source": [
        "# Part 1 - Data Cleaning"
      ]
    },
    {
      "cell_type": "markdown",
      "metadata": {
        "id": "FfNHsEBp4oxz"
      },
      "source": [
        "## Data Loading\n",
        "We load the data, provided in `hw2-crowd-data.csv`"
      ]
    },
    {
      "cell_type": "code",
      "execution_count": null,
      "metadata": {
        "id": "WZio9HYM4oxz"
      },
      "outputs": [],
      "source": [
        "df_cars = pd.read_csv(\"hw2-crowd-data.csv\")"
      ]
    },
    {
      "cell_type": "code",
      "execution_count": null,
      "metadata": {
        "id": "oYWcdWSu4ox0"
      },
      "outputs": [],
      "source": [
        "# what is the length of my dataframe?\n",
        "len(df_cars)"
      ]
    },
    {
      "cell_type": "markdown",
      "metadata": {
        "id": "yFvrc0IW4ox0"
      },
      "source": [
        "## Data Cleaning\n",
        "You need to clean the rows and columns of data using Pandas.  Insert the code (and descriptions of the code in markdown) in this subsection."
      ]
    },
    {
      "cell_type": "code",
      "execution_count": null,
      "metadata": {
        "id": "IKC2vYIF4ox0"
      },
      "outputs": [],
      "source": [
        "# insert code here"
      ]
    },
    {
      "cell_type": "markdown",
      "metadata": {
        "id": "ii0Rca2n4ox0"
      },
      "source": [
        "## Export Cleaned Data\n",
        "Save the output of your data cleaning to `hw2-clean-data.csv`"
      ]
    },
    {
      "cell_type": "code",
      "execution_count": null,
      "metadata": {
        "id": "i8mwbpKf4ox1"
      },
      "outputs": [],
      "source": [
        "df_cars.to_csv(\"hw2-clean-data.csv\")"
      ]
    },
    {
      "cell_type": "markdown",
      "metadata": {
        "id": "CVW8b8SH4ox1"
      },
      "source": [
        "# Part 2:  Exploratory Data Analysis\n",
        "At a minimum, the EDA should include looking at some summary statistics, recognizing any issues with the data or key insights, and visual inspection of important data columns. We expect at least 3 visualizations."
      ]
    },
    {
      "cell_type": "code",
      "execution_count": null,
      "metadata": {
        "id": "5jtmpJyY4ox1"
      },
      "outputs": [],
      "source": [
        "df_cars.describe()"
      ]
    },
    {
      "cell_type": "markdown",
      "metadata": {
        "id": "aP3uwu0E4ox1"
      },
      "source": [
        "# Part 3: Question\n",
        "\n",
        "Pose a question that you believe can be answered from the data. This should be in a clearly identified section in the same notebook."
      ]
    },
    {
      "cell_type": "markdown",
      "metadata": {
        "id": "l6wXjOCt4ox2"
      },
      "source": [
        "# Part 4: Reflection\n",
        "\n",
        "Insert here a reflection of your process. Did you feel you did the most efficient process to clean the dataset? Would your process be repeatable if you got a new dataset regularly with additional listings, or would it require much manual effort with each effort? Do you feel you adequately explored the dataset?   Do you feel your question is a good data science question (e.g. answerable, interesting, and at the right granularity).  \n",
        "\n",
        "This section will not influence your grade on the above sections, so please feel free to be honest."
      ]
    }
  ],
  "metadata": {
    "kernelspec": {
      "display_name": "ids",
      "language": "python",
      "name": "python3"
    },
    "language_info": {
      "codemirror_mode": {
        "name": "ipython",
        "version": 3
      },
      "file_extension": ".py",
      "mimetype": "text/x-python",
      "name": "python",
      "nbconvert_exporter": "python",
      "pygments_lexer": "ipython3",
      "version": "3.10.8"
    },
    "orig_nbformat": 4,
    "colab": {
      "provenance": [],
      "include_colab_link": true
    }
  },
  "nbformat": 4,
  "nbformat_minor": 0
}